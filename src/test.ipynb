{
 "cells": [
  {
   "cell_type": "code",
   "execution_count": null,
   "id": "e4997600",
   "metadata": {},
   "outputs": [],
   "source": [
    "import os\n",
    "from dotenv import load_dotenv\n",
    "load_dotenv()\n",
    "import requests\n",
    "import xml.etree.ElementTree as ET\n",
    "from typing import *\n",
    "import time"
   ]
  },
  {
   "cell_type": "code",
   "execution_count": 41,
   "id": "c2c4599c",
   "metadata": {},
   "outputs": [],
   "source": [
    "import requests\n",
    "import xml.etree.ElementTree as ET\n",
    "import pandas as pd\n",
    "import time\n",
    "\n",
    "def get_all_pmids(query: str, api_key: None | str, email: str = \"your_email@example.com\") -> list[str]:\n",
    "    base_url = \"https://eutils.ncbi.nlm.nih.gov/entrez/eutils/esearch.fcgi\"\n",
    "    retmax = 5000\n",
    "    retstart = 0\n",
    "    pmids = []\n",
    "\n",
    "    # Get total count\n",
    "    params = {\n",
    "        \"db\": \"pubmed\",\n",
    "        \"term\": query,\n",
    "        \"retmode\": \"xml\",\n",
    "        \"retmax\": 0,\n",
    "        \"email\": email\n",
    "    }\n",
    "\n",
    "    if api_key:\n",
    "        params[\"api_key\"] = api_key\n",
    "\n",
    "    try:\n",
    "        r = requests.get(base_url, params=params, timeout=10)\n",
    "        r.raise_for_status()\n",
    "\n",
    "        root = ET.fromstring(r.text)\n",
    "        total = int(root.findtext(\".//Count\"))\n",
    "        print(f\"Found {total} results.\")\n",
    "\n",
    "    except Exception as e:\n",
    "        print(f\"Failed to get count: {e}\")\n",
    "        return []\n",
    "    \n",
    "    # Fetch in pages with retry logic\n",
    "    max_fails=0\n",
    "    while retstart < total and max_fails<2:\n",
    "        print(f\"Fetching {retstart} to {retstart + retmax}...\")\n",
    "        retries = 2\n",
    "        fetched = False\n",
    "\n",
    "        while retries > 0 and not fetched:\n",
    "            page_params = params.copy()\n",
    "            page_params.update({\n",
    "                \"retstart\": retstart,\n",
    "                \"retmax\": retmax\n",
    "            })\n",
    "\n",
    "            try:\n",
    "                r = requests.get(base_url, params=page_params, timeout=(5,10))\n",
    "                r.raise_for_status()\n",
    "                root = ET.fromstring(r.text)\n",
    "                ids = [elem.text for elem in root.findall(\".//Id\")]\n",
    "\n",
    "                if ids:\n",
    "                    pmids.extend(ids)\n",
    "                    retstart += retmax\n",
    "                    fetched = True\n",
    "                else:\n",
    "                    retries -= 1\n",
    "                    if retries == 0:\n",
    "                        max_fails+=1\n",
    "                        retstart+=retmax\n",
    "                        fetched = True\n",
    "                    #time.sleep(0.5)\n",
    "                    print(f\"No IDs returned at {retstart}, retrying...\")\n",
    "\n",
    "            except Exception as e:\n",
    "                print(f\"Error at retstart={retstart}: {e}\")\n",
    "                retries-=1\n",
    "                if retries == 0:\n",
    "                    max_fails+=1\n",
    "                    retstart+=retmax\n",
    "                    fetched = True\n",
    "                \n",
    "                #time.sleep(0.5)\n",
    "\n",
    "        if max_fails==2:\n",
    "            print(f\"Giving up at retstart={retstart}. Stopping early.\")\n",
    "            break\n",
    "    \n",
    "    print(f\"Fetched {len(pmids)}/{total} ids.\")\n",
    "    #time.sleep(0.5)\n",
    "\n",
    "    return pmids"
   ]
  },
  {
   "cell_type": "code",
   "execution_count": null,
   "id": "90a766f3",
   "metadata": {},
   "outputs": [
    {
     "name": "stdout",
     "output_type": "stream",
     "text": [
      "Found 40505 results.\n",
      "Fetching 0 to 5000...\n",
      "Fetching 5000 to 10000...\n",
      "Fetching 10000 to 15000...\n",
      "No IDs returned at 10000, retrying...\n",
      "No IDs returned at 15000, retrying...\n",
      "Fetching 15000 to 20000...\n",
      "No IDs returned at 15000, retrying...\n",
      "No IDs returned at 20000, retrying...\n",
      "Giving up at retstart=20000. Stopping early.\n",
      "Fetched 9999/40505 ids.\n"
     ]
    }
   ],
   "source": [
    "NCBI_EMAIL = os.getenv(\"NCBI_API_KEY\")\n",
    "NCBI_API_KEY = os.getenv(\"email\")\n",
    "\n",
    "query = \"covid-19 AND 2024[dp] AND humans[MeSH Terms]\"\n",
    "\n",
    "pmids = get_all_pmids(query, NCBI_EMAIL,NCBI_API_KEY)"
   ]
  },
  {
   "cell_type": "code",
   "execution_count": 32,
   "id": "9670fddf",
   "metadata": {},
   "outputs": [
    {
     "data": {
      "text/plain": [
       "9999"
      ]
     },
     "execution_count": 32,
     "metadata": {},
     "output_type": "execute_result"
    }
   ],
   "source": [
    "len(pmids)"
   ]
  },
  {
   "cell_type": "code",
   "execution_count": null,
   "id": "fe985cb0",
   "metadata": {},
   "outputs": [],
   "source": []
  }
 ],
 "metadata": {
  "kernelspec": {
   "display_name": "Python 3",
   "language": "python",
   "name": "python3"
  },
  "language_info": {
   "codemirror_mode": {
    "name": "ipython",
    "version": 3
   },
   "file_extension": ".py",
   "mimetype": "text/x-python",
   "name": "python",
   "nbconvert_exporter": "python",
   "pygments_lexer": "ipython3",
   "version": "3.11.0"
  }
 },
 "nbformat": 4,
 "nbformat_minor": 5
}
