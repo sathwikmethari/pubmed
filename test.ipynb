{
 "cells": [
  {
   "cell_type": "code",
   "execution_count": null,
   "id": "e4997600",
   "metadata": {},
   "outputs": [],
   "source": [
    "import os\n",
    "from dotenv import load_dotenv\n",
    "load_dotenv()\n",
    "import requests\n",
    "import xml.etree.ElementTree as ET\n",
    "from typing import *\n",
    "import time\n",
    "from utils import *\n",
    "import threading\n",
    "import queue\n",
    "import pandas as pd\n",
    "\n",
    "NCBI_API_KEY = os.getenv(\"NCBI_API_KEY\")\n",
    "NCBI_EMAIL = os.getenv(\"email\")"
   ]
  },
  {
   "cell_type": "code",
   "execution_count": 3,
   "id": "c2c4599c",
   "metadata": {},
   "outputs": [],
   "source": [
    "def make_esearch_call(query: str, api_key: None | str, email: str = \"your_email@example.com\") -> Tuple[int, str, str]:\n",
    "    url = \"https://eutils.ncbi.nlm.nih.gov/entrez/eutils/esearch.fcgi\"\n",
    "\n",
    "    params = {\n",
    "        \"db\": \"pubmed\",\n",
    "        \"term\": query,\n",
    "        \"usehistory\": \"y\",\n",
    "        \"retmode\": \"json\",\n",
    "        \"retmax\": 0,\n",
    "        \"email\": email\n",
    "    }\n",
    "\n",
    "    if api_key:\n",
    "        params[\"api_key\"] = api_key\n",
    "\n",
    "    res = requests.get(url, params=params)\n",
    "    res.raise_for_status()\n",
    "\n",
    "    data = res.json()[\"esearchresult\"]\n",
    "\n",
    "    count = int(data[\"count\"])\n",
    "    webenv = data[\"webenv\"]\n",
    "    query_key = data[\"querykey\"]\n",
    "\n",
    "    print(f\"Total results: {count}\")\n",
    "    \n",
    "    return count, webenv, query_key"
   ]
  },
  {
   "cell_type": "code",
   "execution_count": null,
   "id": "90a766f3",
   "metadata": {},
   "outputs": [
    {
     "name": "stdout",
     "output_type": "stream",
     "text": [
      "Total results: 40507\n"
     ]
    }
   ],
   "source": [
    "query = \"covid-19 AND 2024[dp] AND humans[MeSH Terms]\"\n",
    "\n",
    "count, webenv, query_key = make_esearch_call(query, NCBI_EMAIL,NCBI_API_KEY)"
   ]
  },
  {
   "cell_type": "code",
   "execution_count": 32,
   "id": "7eac69bf",
   "metadata": {},
   "outputs": [],
   "source": [
    "# RETMAX=1000\n",
    "\n",
    "# params = {\n",
    "#             \"db\": \"pubmed\",\n",
    "#             \"query_key\": query_key,\n",
    "#             \"WebEnv\": webenv,\n",
    "#             \"retstart\": 0,\n",
    "#             \"retmax\": RETMAX,\n",
    "#             \"retmode\": \"xml\",\n",
    "#             \"email\": NCBI_EMAIL,\n",
    "#             \"api_key\": None\n",
    "#         }\n",
    "# res=None\n",
    "# try:\n",
    "#     res = requests.get(\"https://eutils.ncbi.nlm.nih.gov/entrez/eutils/efetch.fcgi\", params=params)\n",
    "#     res.raise_for_status()\n",
    "\n",
    "#     filename = f\"pubmed_batch_{0}_{0 + RETMAX - 1}.xml\"\n",
    "\n",
    "#     with open(filename, \"w\", encoding=\"utf-8\") as f:\n",
    "#         f.write(res.text)\n",
    "\n",
    "#     print(f\"[EF-{1}] Fetched records {0}-{0 + RETMAX - 1}\")\n",
    "\n",
    "# except Exception as e:\n",
    "#     print(f\"[EF-{1}] Error at start={0}: {e}\")\n",
    "# finally:\n",
    "#     q.task_done()\n",
    "#     time.sleep(1.0 / RATE_LIMIT)  # To respect NCBI limit"
   ]
  },
  {
   "cell_type": "code",
   "execution_count": null,
   "id": "9436bcec",
   "metadata": {},
   "outputs": [],
   "source": []
  }
 ],
 "metadata": {
  "kernelspec": {
   "display_name": "Python 3",
   "language": "python",
   "name": "python3"
  },
  "language_info": {
   "codemirror_mode": {
    "name": "ipython",
    "version": 3
   },
   "file_extension": ".py",
   "mimetype": "text/x-python",
   "name": "python",
   "nbconvert_exporter": "python",
   "pygments_lexer": "ipython3",
   "version": "3.11.0"
  }
 },
 "nbformat": 4,
 "nbformat_minor": 5
}
