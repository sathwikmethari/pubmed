{
 "cells": [
  {
   "cell_type": "code",
   "execution_count": 23,
   "id": "ba7e64e4",
   "metadata": {},
   "outputs": [],
   "source": [
    "import pandas as pd\n",
    "df=pd.read_csv(\"outputs/test10@gmail.com.csv\")"
   ]
  },
  {
   "cell_type": "code",
   "execution_count": 24,
   "id": "cd6ff78a",
   "metadata": {},
   "outputs": [
    {
     "data": {
      "text/html": [
       "<div>\n",
       "<style scoped>\n",
       "    .dataframe tbody tr th:only-of-type {\n",
       "        vertical-align: middle;\n",
       "    }\n",
       "\n",
       "    .dataframe tbody tr th {\n",
       "        vertical-align: top;\n",
       "    }\n",
       "\n",
       "    .dataframe thead th {\n",
       "        text-align: right;\n",
       "    }\n",
       "</style>\n",
       "<table border=\"1\" class=\"dataframe\">\n",
       "  <thead>\n",
       "    <tr style=\"text-align: right;\">\n",
       "      <th></th>\n",
       "      <th>PMID</th>\n",
       "      <th>Title</th>\n",
       "      <th>PublicationDate</th>\n",
       "      <th>NonAcademicAuthors</th>\n",
       "      <th>CompanyAffiliations</th>\n",
       "      <th>CorrespondingAuthorEmail</th>\n",
       "    </tr>\n",
       "  </thead>\n",
       "  <tbody>\n",
       "    <tr>\n",
       "      <th>0</th>\n",
       "      <td>39136969</td>\n",
       "      <td>This differentiation block will not stand, man...</td>\n",
       "      <td>13-8-2024</td>\n",
       "      <td>NaN</td>\n",
       "      <td>Department of Pharmacy, University of Californ...</td>\n",
       "      <td>NaN</td>\n",
       "    </tr>\n",
       "    <tr>\n",
       "      <th>1</th>\n",
       "      <td>39136895</td>\n",
       "      <td>A lower initial dose of bosutinib for patients...</td>\n",
       "      <td>20-4-2024</td>\n",
       "      <td>NaN</td>\n",
       "      <td>Department of Pharmacokinetics, Akita Universi...</td>\n",
       "      <td>naotot@doc.med.akita-u.ac.jp.</td>\n",
       "    </tr>\n",
       "    <tr>\n",
       "      <th>2</th>\n",
       "      <td>39136784</td>\n",
       "      <td>Analysis of the shorter drug survival times fo...</td>\n",
       "      <td>31-3-2024</td>\n",
       "      <td>Peter Bartz-Bazzanella, Patrick Wurth, Wolfgan...</td>\n",
       "      <td>Hannover Medical School, Institute for Clinica...</td>\n",
       "      <td>Strunz_P@ukw.de.</td>\n",
       "    </tr>\n",
       "    <tr>\n",
       "      <th>3</th>\n",
       "      <td>39135965</td>\n",
       "      <td>Impact of Antifungal Prophylaxis Continuation ...</td>\n",
       "      <td>27-2-2024</td>\n",
       "      <td>Jana Dickter, Sanjeet Singh Dadwal, Deepa Nana...</td>\n",
       "      <td>Department of Pharmacy, City of Hope National ...</td>\n",
       "      <td>NaN</td>\n",
       "    </tr>\n",
       "    <tr>\n",
       "      <th>4</th>\n",
       "      <td>39135125</td>\n",
       "      <td>Systematic literature review of the somatic co...</td>\n",
       "      <td>25-4-2023</td>\n",
       "      <td>Jack Said, Sheun Oshinbolu, Gillian C Sibbring...</td>\n",
       "      <td>BioMarin Pharmaceutical Inc., 105 Digital Driv...</td>\n",
       "      <td>Kaleigh.Whitehall@bmrn.com.</td>\n",
       "    </tr>\n",
       "  </tbody>\n",
       "</table>\n",
       "</div>"
      ],
      "text/plain": [
       "       PMID  ...       CorrespondingAuthorEmail\n",
       "0  39136969  ...                            NaN\n",
       "1  39136895  ...  naotot@doc.med.akita-u.ac.jp.\n",
       "2  39136784  ...               Strunz_P@ukw.de.\n",
       "3  39135965  ...                            NaN\n",
       "4  39135125  ...    Kaleigh.Whitehall@bmrn.com.\n",
       "\n",
       "[5 rows x 6 columns]"
      ]
     },
     "execution_count": 24,
     "metadata": {},
     "output_type": "execute_result"
    }
   ],
   "source": [
    "df.head(5)"
   ]
  },
  {
   "cell_type": "code",
   "execution_count": null,
   "id": "3a214a55",
   "metadata": {},
   "outputs": [],
   "source": []
  }
 ],
 "metadata": {
  "kernelspec": {
   "display_name": "Python 3",
   "language": "python",
   "name": "python3"
  },
  "language_info": {
   "codemirror_mode": {
    "name": "ipython",
    "version": 3
   },
   "file_extension": ".py",
   "mimetype": "text/x-python",
   "name": "python",
   "nbconvert_exporter": "python",
   "pygments_lexer": "ipython3",
   "version": "3.11.0"
  }
 },
 "nbformat": 4,
 "nbformat_minor": 5
}
