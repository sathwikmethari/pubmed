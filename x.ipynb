{
 "cells": [
  {
   "cell_type": "code",
   "execution_count": 3,
   "id": "ba7e64e4",
   "metadata": {},
   "outputs": [],
   "source": [
    "import pandas as pd\n"
   ]
  },
  {
   "cell_type": "code",
   "execution_count": 4,
   "id": "42b40d64",
   "metadata": {},
   "outputs": [],
   "source": [
    "df=pd.read_csv(\"outputs/test4@gmail.com.csv\")"
   ]
  },
  {
   "cell_type": "code",
   "execution_count": 5,
   "id": "cd6ff78a",
   "metadata": {},
   "outputs": [
    {
     "data": {
      "text/html": [
       "<div>\n",
       "<style scoped>\n",
       "    .dataframe tbody tr th:only-of-type {\n",
       "        vertical-align: middle;\n",
       "    }\n",
       "\n",
       "    .dataframe tbody tr th {\n",
       "        vertical-align: top;\n",
       "    }\n",
       "\n",
       "    .dataframe thead th {\n",
       "        text-align: right;\n",
       "    }\n",
       "</style>\n",
       "<table border=\"1\" class=\"dataframe\">\n",
       "  <thead>\n",
       "    <tr style=\"text-align: right;\">\n",
       "      <th></th>\n",
       "      <th>PMID</th>\n",
       "      <th>Title</th>\n",
       "      <th>PublicationDate</th>\n",
       "      <th>NonAcademicAuthors</th>\n",
       "      <th>CompanyAffiliations</th>\n",
       "      <th>CorrespondingAuthorEmail</th>\n",
       "    </tr>\n",
       "  </thead>\n",
       "  <tbody>\n",
       "    <tr>\n",
       "      <th>0</th>\n",
       "      <td>39869670</td>\n",
       "      <td>Response by Hoeper et al to Letter Regarding A...</td>\n",
       "      <td>27-1-2025</td>\n",
       "      <td>Susanne Vogt, Scott Haughie, Sarah Hackley, Ta...</td>\n",
       "      <td>M, E, D, A,  , P, h, a, r, m, a,  , G, m, b, H...</td>\n",
       "      <td>NaN</td>\n",
       "    </tr>\n",
       "    <tr>\n",
       "      <th>1</th>\n",
       "      <td>39869270</td>\n",
       "      <td>Effect of Ozoralizumab Administration with or ...</td>\n",
       "      <td>1-11-2024</td>\n",
       "      <td>Masafumi Kawanishi, Saeko Uchida, Cosmo Sasaji...</td>\n",
       "      <td>T, a, i, s, h, o,  , P, h, a, r, m, a, c, e, u...</td>\n",
       "      <td>tanaka@med.uoeh-u.ac.jp.</td>\n",
       "    </tr>\n",
       "    <tr>\n",
       "      <th>2</th>\n",
       "      <td>39868915</td>\n",
       "      <td>Early combination lipid-lowering therapy is as...</td>\n",
       "      <td>27-1-2025</td>\n",
       "      <td>Mark R Nehler, Marc P Bonaca, Judith Hsia, Con...</td>\n",
       "      <td>U, n, i, v, e, r, s, i, t, y,  , o, f,  , C, o...</td>\n",
       "      <td>NaN</td>\n",
       "    </tr>\n",
       "    <tr>\n",
       "      <th>3</th>\n",
       "      <td>39868419</td>\n",
       "      <td>Gene-ius at work: Hemophilia B treatment enter...</td>\n",
       "      <td>14-6-2024</td>\n",
       "      <td>NaN</td>\n",
       "      <td>D, e, p, a, r, t, m, e, n, t,  , o, f,  , P, h...</td>\n",
       "      <td>NaN</td>\n",
       "    </tr>\n",
       "    <tr>\n",
       "      <th>4</th>\n",
       "      <td>39867971</td>\n",
       "      <td>Roads to remission: evolving treatment concept...</td>\n",
       "      <td>26-9-2024</td>\n",
       "      <td>Ingo H Tarner</td>\n",
       "      <td>I, n, s, t, i, t, u, t, e,  , o, f,  , A, l, l...</td>\n",
       "      <td>NaN</td>\n",
       "    </tr>\n",
       "  </tbody>\n",
       "</table>\n",
       "</div>"
      ],
      "text/plain": [
       "       PMID                                              Title  \\\n",
       "0  39869670  Response by Hoeper et al to Letter Regarding A...   \n",
       "1  39869270  Effect of Ozoralizumab Administration with or ...   \n",
       "2  39868915  Early combination lipid-lowering therapy is as...   \n",
       "3  39868419  Gene-ius at work: Hemophilia B treatment enter...   \n",
       "4  39867971  Roads to remission: evolving treatment concept...   \n",
       "\n",
       "  PublicationDate                                 NonAcademicAuthors  \\\n",
       "0       27-1-2025  Susanne Vogt, Scott Haughie, Sarah Hackley, Ta...   \n",
       "1       1-11-2024  Masafumi Kawanishi, Saeko Uchida, Cosmo Sasaji...   \n",
       "2       27-1-2025  Mark R Nehler, Marc P Bonaca, Judith Hsia, Con...   \n",
       "3       14-6-2024                                                NaN   \n",
       "4       26-9-2024                                      Ingo H Tarner   \n",
       "\n",
       "                                 CompanyAffiliations  CorrespondingAuthorEmail  \n",
       "0  M, E, D, A,  , P, h, a, r, m, a,  , G, m, b, H...                       NaN  \n",
       "1  T, a, i, s, h, o,  , P, h, a, r, m, a, c, e, u...  tanaka@med.uoeh-u.ac.jp.  \n",
       "2  U, n, i, v, e, r, s, i, t, y,  , o, f,  , C, o...                       NaN  \n",
       "3  D, e, p, a, r, t, m, e, n, t,  , o, f,  , P, h...                       NaN  \n",
       "4  I, n, s, t, i, t, u, t, e,  , o, f,  , A, l, l...                       NaN  "
      ]
     },
     "execution_count": 5,
     "metadata": {},
     "output_type": "execute_result"
    }
   ],
   "source": [
    "df.head(5)"
   ]
  },
  {
   "cell_type": "code",
   "execution_count": null,
   "id": "1e588d54",
   "metadata": {},
   "outputs": [],
   "source": []
  }
 ],
 "metadata": {
  "kernelspec": {
   "display_name": "Python 3",
   "language": "python",
   "name": "python3"
  },
  "language_info": {
   "codemirror_mode": {
    "name": "ipython",
    "version": 3
   },
   "file_extension": ".py",
   "mimetype": "text/x-python",
   "name": "python",
   "nbconvert_exporter": "python",
   "pygments_lexer": "ipython3",
   "version": "3.11.0"
  }
 },
 "nbformat": 4,
 "nbformat_minor": 5
}
